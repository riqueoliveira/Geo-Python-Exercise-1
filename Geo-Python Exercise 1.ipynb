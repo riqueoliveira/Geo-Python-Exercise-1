{
 "cells": [
  {
   "cell_type": "markdown",
   "id": "27af6847",
   "metadata": {},
   "source": [
    "# Problem 1 - Defining some variables"
   ]
  },
  {
   "cell_type": "markdown",
   "id": "1d11cc40",
   "metadata": {},
   "source": [
    "In the top cell of the new notebook:\n",
    "\n",
    "Create a variable called ice_cream_rating and use it to store an integer value (whole number) between 0 and 10 that reflects your general opinion about how much you enjoy eating ice cream.\n",
    "\n",
    "Create another variable called sleeping_rating and use it to store another integer between 0 and 10 that reflects your opinion about how much you enjoy sleeping.\n",
    "\n",
    "Run the cell by pressing Shift-Enter."
   ]
  },
  {
   "cell_type": "code",
   "execution_count": 4,
   "id": "8b87d224",
   "metadata": {},
   "outputs": [],
   "source": [
    "ice_cream_rating = 8\n",
    "sleeping_rating = 7"
   ]
  },
  {
   "cell_type": "markdown",
   "id": "2d261dfd",
   "metadata": {},
   "source": [
    "# Problem 2 - Reading in variable values"
   ]
  },
  {
   "cell_type": "markdown",
   "id": "26fa62fd",
   "metadata": {},
   "source": [
    "In the new cell that appears:\n",
    "\n",
    "Use the input() function to prompt the user to enter their first name and store it in a variable called first_name.\n",
    "\n",
    "Use the input() function again to prompt the user to enter their last name and store it in a variable called last_name.\n",
    "\n",
    "(Optional) Define a third variable called my_name that will combine the user's first and last names into a single character string with a space between the names.\n",
    "\n",
    "Run the cell and enter the requested information at the prompts."
   ]
  },
  {
   "cell_type": "code",
   "execution_count": 14,
   "id": "402c7adc",
   "metadata": {},
   "outputs": [
    {
     "name": "stdout",
     "output_type": "stream",
     "text": [
      "What is your name?Henrique\n",
      "What is your last name?Sawakuchi\n",
      "Henrique Sawakuchi\n",
      "Henrique Sawakuchi\n"
     ]
    }
   ],
   "source": [
    "first_name = input('What is your name?')\n",
    "\n",
    "last_name = input ('What is your last name?')\n",
    "\n",
    "print(first_name, last_name)\n",
    "\n",
    "my_name = first_name + ' ' + last_name\n",
    "print(my_name)"
   ]
  },
  {
   "cell_type": "markdown",
   "id": "8b331539",
   "metadata": {},
   "source": [
    "# Problem 3 - A bit of math"
   ]
  },
  {
   "cell_type": "markdown",
   "id": "f5124bdf",
   "metadata": {},
   "source": [
    "In order to assess happiness it is necessary to combine the ice cream and sleeping ratings. To do this:\n",
    "\n",
    "Calculate the average of your ice_cream_rating and sleeping_rating variables and store the resulting value in a variable called happiness_rating.\n",
    "\n",
    "Run the cell by pressing Shift-Enter."
   ]
  },
  {
   "cell_type": "code",
   "execution_count": 23,
   "id": "6697dced",
   "metadata": {},
   "outputs": [
    {
     "name": "stdout",
     "output_type": "stream",
     "text": [
      "7.5\n"
     ]
    }
   ],
   "source": [
    "happiness_rating = (ice_cream_rating + sleeping_rating) / 2\n",
    "print(happiness_rating)"
   ]
  },
  {
   "cell_type": "markdown",
   "id": "66bbc11c",
   "metadata": {},
   "source": [
    "# Problem 4 - Checking data types "
   ]
  },
  {
   "cell_type": "markdown",
   "id": "0a394080",
   "metadata": {},
   "source": [
    "The next step is to investigate the kinds of data we're working with. In another Python cell:\n",
    "\n",
    "Use a built-in Python function to check the data types of the ice_cream_rating, first_name, and happiness_rating variables. In order to see the data types for more than one variable in a single Python cell, you will need to print out these values using another built-in Python function.\n",
    "\n",
    "Run the cell by pressing Shift-Enter.\n",
    "\n",
    "Did all of the data types make sense? Were there any data types that were different than you expected? In the new Python cell that appeared after running the code above, enter your responses to the questions above.\n",
    "\n",
    "For the cell containing your answers to the questions above, change the kind of cell from Code to Markdown.\n",
    "\n",
    "Run the Markdown cell by pressing Shift-Enter."
   ]
  },
  {
   "cell_type": "code",
   "execution_count": 24,
   "id": "0ef6fc1c",
   "metadata": {},
   "outputs": [
    {
     "name": "stdout",
     "output_type": "stream",
     "text": [
      "<class 'int'> <class 'str'> <class 'float'>\n"
     ]
    }
   ],
   "source": [
    "type1 = type(ice_cream_rating)\n",
    "type2 = type(first_name)\n",
    "type3 = type(happiness_rating)\n",
    "print(type1, type2, type3)"
   ]
  },
  {
   "cell_type": "markdown",
   "id": "49278a00",
   "metadata": {},
   "source": [
    "The data make sense and were as expected with ice_cream_rating as integer, first_name as string, and happiness_rating as float."
   ]
  },
  {
   "cell_type": "markdown",
   "id": "2ce71370",
   "metadata": {},
   "source": [
    "# Problem 5 - Displaying text on the screen"
   ]
  },
  {
   "cell_type": "markdown",
   "id": "614a1a79",
   "metadata": {},
   "source": [
    "Finally, you can use your Python skills to generate output on the screen similar to that below. Use one command to generate each line of output."
   ]
  },
  {
   "cell_type": "code",
   "execution_count": 26,
   "id": "a361f761",
   "metadata": {},
   "outputs": [
    {
     "name": "stdout",
     "output_type": "stream",
     "text": [
      "My name is Henrique and I give eating ice cream a score of 8 out of 10\n"
     ]
    }
   ],
   "source": [
    "print('My name is', first_name,'and I give eating ice cream a score of', ice_cream_rating,'out of 10')"
   ]
  },
  {
   "cell_type": "code",
   "execution_count": 28,
   "id": "e0e80048",
   "metadata": {},
   "outputs": [
    {
     "name": "stdout",
     "output_type": "stream",
     "text": [
      "I am Henrique Sawakuchi and my sleeping enjoyment is 7 / 10!\n"
     ]
    }
   ],
   "source": [
    "print('I am', my_name,'and my sleeping enjoyment is',sleeping_rating, '/ 10!')"
   ]
  },
  {
   "cell_type": "code",
   "execution_count": 29,
   "id": "ef7f3a97",
   "metadata": {},
   "outputs": [
    {
     "name": "stdout",
     "output_type": "stream",
     "text": [
      "Based on the factors above, my happiness rating is 7.5 out of 10 or 75.0 %\n"
     ]
    }
   ],
   "source": [
    "print('Based on the factors above, my happiness rating is', happiness_rating, 'out of 10', 'or', happiness_rating*10,'%')"
   ]
  },
  {
   "cell_type": "code",
   "execution_count": null,
   "id": "b2b4a145",
   "metadata": {},
   "outputs": [],
   "source": []
  }
 ],
 "metadata": {
  "kernelspec": {
   "display_name": "Python 3",
   "language": "python",
   "name": "python3"
  },
  "language_info": {
   "codemirror_mode": {
    "name": "ipython",
    "version": 3
   },
   "file_extension": ".py",
   "mimetype": "text/x-python",
   "name": "python",
   "nbconvert_exporter": "python",
   "pygments_lexer": "ipython3",
   "version": "3.8.8"
  }
 },
 "nbformat": 4,
 "nbformat_minor": 5
}
